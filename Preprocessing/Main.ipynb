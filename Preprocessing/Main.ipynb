{
 "cells": [
  {
   "cell_type": "code",
   "execution_count": 6,
   "metadata": {},
   "outputs": [],
   "source": [
    "import pandas as pd\n",
    "import pyperclip\n",
    "\n",
    "# From https://huggingface.co/datasets/GianlucaMondillo/Pediatric_medical_reasoning/viewer?views%5B%5D=train\n",
    "df = pd.read_csv(\"hf://datasets/GianlucaMondillo/Pediatric_medical_reasoning/Pediatric_medical_reasoning.csv\")"
   ]
  },
  {
   "cell_type": "code",
   "execution_count": 9,
   "metadata": {},
   "outputs": [
    {
     "data": {
      "text/html": [
       "<div>\n",
       "<style scoped>\n",
       "    .dataframe tbody tr th:only-of-type {\n",
       "        vertical-align: middle;\n",
       "    }\n",
       "\n",
       "    .dataframe tbody tr th {\n",
       "        vertical-align: top;\n",
       "    }\n",
       "\n",
       "    .dataframe thead th {\n",
       "        text-align: right;\n",
       "    }\n",
       "</style>\n",
       "<table border=\"1\" class=\"dataframe\">\n",
       "  <thead>\n",
       "    <tr style=\"text-align: right;\">\n",
       "      <th></th>\n",
       "      <th>Question</th>\n",
       "      <th>Complex_COT</th>\n",
       "      <th>Response</th>\n",
       "    </tr>\n",
       "  </thead>\n",
       "  <tbody>\n",
       "    <tr>\n",
       "      <th>count</th>\n",
       "      <td>448</td>\n",
       "      <td>448</td>\n",
       "      <td>448</td>\n",
       "    </tr>\n",
       "    <tr>\n",
       "      <th>unique</th>\n",
       "      <td>448</td>\n",
       "      <td>448</td>\n",
       "      <td>448</td>\n",
       "    </tr>\n",
       "    <tr>\n",
       "      <th>top</th>\n",
       "      <td>A neonate female, born prematurely at 34 weeks...</td>\n",
       "      <td>The infant's presentation with respiratory dis...</td>\n",
       "      <td>An ECG (electrocardiogram) would be the most h...</td>\n",
       "    </tr>\n",
       "    <tr>\n",
       "      <th>freq</th>\n",
       "      <td>1</td>\n",
       "      <td>1</td>\n",
       "      <td>1</td>\n",
       "    </tr>\n",
       "  </tbody>\n",
       "</table>\n",
       "</div>"
      ],
      "text/plain": [
       "                                                 Question  \\\n",
       "count                                                 448   \n",
       "unique                                                448   \n",
       "top     A neonate female, born prematurely at 34 weeks...   \n",
       "freq                                                    1   \n",
       "\n",
       "                                              Complex_COT  \\\n",
       "count                                                 448   \n",
       "unique                                                448   \n",
       "top     The infant's presentation with respiratory dis...   \n",
       "freq                                                    1   \n",
       "\n",
       "                                                 Response  \n",
       "count                                                 448  \n",
       "unique                                                448  \n",
       "top     An ECG (electrocardiogram) would be the most h...  \n",
       "freq                                                    1  "
      ]
     },
     "execution_count": 9,
     "metadata": {},
     "output_type": "execute_result"
    }
   ],
   "source": [
    "df.describe()"
   ]
  },
  {
   "cell_type": "code",
   "execution_count": 8,
   "metadata": {},
   "outputs": [
    {
     "name": "stdout",
     "output_type": "stream",
     "text": [
      "A 16-year-old female presents to Urgent Care with her mother, reporting a witnessed episode of apnea that occurred this morning. The mother states that the patient was sitting at the breakfast table when she suddenly stopped breathing and became unresponsive for approximately 30 seconds. The mother states that the patient was \"stiff\" during the event and that afterward the patient seemed confused and tired. The patient reports a mild headache and denies any other symptoms. Her mother reports a low-grade fever of 38.2°C (100.8°F) taken at home. The patient has a history of epilepsy, well-controlled with levetiracetam 500mg twice daily. There is a family history of migraines on the maternal side.\n",
      "\n",
      "Vital signs: Temperature 38.2°C, HR 90 bpm, RR 18 breaths/min, BP 110/70 mmHg, SpO2 98% on room air.\n",
      "\n",
      "Physical examination: The patient appears tired but is alert and oriented to person and place, but is unsure of the date. She demonstrates intact cranial nerves II-XII. Motor strength is 5/5 in all extremities bilaterally. Tone is normal, and reflexes are 2+ and symmetric throughout. Respiratory auscultation reveals clear lung sounds bilaterally. There are no meningeal signs.\n",
      "\n",
      "Initial lab results: Point-of-care glucose is 90 mg/dL. Levetiracetam level (from the pharmacy records) is within therapeutic range.\n",
      "\n",
      "Given the patient's history of epilepsy, the witnessed apnea, and neurological findings, what is the most appropriate next step in the patient's management and, if indicated, what is the recommended initial dosing regimen for the chosen intervention?The patient's presentation of witnessed apnea, new-onset confusion, low-grade fever, and history of epilepsy raises significant concern for a possible seizure, potentially complicated by an underlying infectious process such as meningitis or encephalitis, or other causes of altered mental status. The absence of focal neurological deficits other than confusion makes a focal lesion less likely, but the possibility cannot be entirely ruled out. Given the potential for a serious underlying etiology, and the recent onset of the concerning symptoms, a thorough investigation is warranted. The initial step should involve emergent stabilization and further evaluation. The patient's presentation of apnea, fever, and altered mental status strongly suggests the need for a lumbar puncture to rule out meningitis or encephalitis. Simultaneously, intravenous access should be established, and broad-spectrum antibiotic and antiviral therapy should be initiated pending the results of the lumbar puncture. Levetiracetam levels are within the therapeutic range, so an adjustment of the current antiepileptic medication is not required at this moment. The patient should be closely monitored for ongoing seizure activity or respiratory compromise.The most appropriate next step is to perform a lumbar puncture to rule out meningitis or encephalitis, along with initiation of broad-spectrum antibiotic and antiviral therapy. The recommended initial dosing regimen for empiric treatment for a likely bacterial meningitis in a 16-year-old female, pending lumbar puncture results, is as follows: Ceftriaxone 2 grams IV every 12 hours, plus Vancomycin 15mg/kg IV every 8-12 hours (target trough level 15-20 mcg/mL), and Acyclovir 10mg/kg IV every 8 hours to cover for possible viral encephalitis.\n"
     ]
    }
   ],
   "source": [
    "rep = (\"\".join(dict(df.iloc[430]).values()))\n",
    "\n",
    "print(rep)\n",
    "\n",
    "pyperclip.copy(rep)\n",
    "\n"
   ]
  }
 ],
 "metadata": {
  "kernelspec": {
   "display_name": "Python 3",
   "language": "python",
   "name": "python3"
  },
  "language_info": {
   "codemirror_mode": {
    "name": "ipython",
    "version": 3
   },
   "file_extension": ".py",
   "mimetype": "text/x-python",
   "name": "python",
   "nbconvert_exporter": "python",
   "pygments_lexer": "ipython3",
   "version": "3.13.0"
  }
 },
 "nbformat": 4,
 "nbformat_minor": 2
}
